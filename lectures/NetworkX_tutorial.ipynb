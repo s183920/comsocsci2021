{
 "cells": [
  {
   "cell_type": "markdown",
   "id": "secure-thesis",
   "metadata": {},
   "source": [
    "# NetworkX tutorial"
   ]
  },
  {
   "cell_type": "markdown",
   "id": "above-therapist",
   "metadata": {},
   "source": [
    "## Creating a graph"
   ]
  },
  {
   "cell_type": "code",
   "execution_count": 1,
   "id": "greek-capitol",
   "metadata": {},
   "outputs": [],
   "source": [
    "import networkx as nx"
   ]
  },
  {
   "cell_type": "code",
   "execution_count": 2,
   "id": "knowing-professional",
   "metadata": {},
   "outputs": [],
   "source": [
    "G = nx.Graph()"
   ]
  },
  {
   "cell_type": "markdown",
   "id": "prerequisite-information",
   "metadata": {},
   "source": [
    "### Nodes"
   ]
  },
  {
   "cell_type": "code",
   "execution_count": 3,
   "id": "fifth-nightlife",
   "metadata": {},
   "outputs": [],
   "source": [
    "# add single node\n",
    "G.add_node(1) \n",
    "\n",
    "# add nodes from list\n",
    "G.add_nodes_from([2,3])\n",
    "\n",
    "# uses an attribute dict\n",
    "G.add_nodes_from([\n",
    "    (4, {\"color\": \"red\"}),\n",
    "    (5, {\"color\": \"green\"})\n",
    "]) \n",
    "\n",
    "# add nodes from a seperate graph\n",
    "H = nx.path_graph(10)\n",
    "G.add_nodes_from(H)\n",
    "\n",
    "# uses entire H graph as single node in G\n",
    "G.add_node(H)"
   ]
  },
  {
   "cell_type": "markdown",
   "id": "worth-merchant",
   "metadata": {},
   "source": [
    "### Edges"
   ]
  },
  {
   "cell_type": "code",
   "execution_count": 4,
   "id": "fancy-breach",
   "metadata": {},
   "outputs": [],
   "source": [
    "# add single edge\n",
    "G.add_edge(1, 2) # edge from 1 to 2\n",
    "e = (2, 3)\n",
    "G.add_edge(*e)  # unpack edge tuple*\n",
    "\n",
    "# list of edges\n",
    "G.add_edges_from([(1, 2), (1, 3)])\n",
    "\n",
    "# edges from seperae graph\n",
    "G.add_edges_from(H.edges)"
   ]
  },
  {
   "cell_type": "markdown",
   "id": "adjustable-astrology",
   "metadata": {},
   "source": [
    "### Nodes and edges"
   ]
  },
  {
   "cell_type": "code",
   "execution_count": 6,
   "id": "joined-president",
   "metadata": {},
   "outputs": [
    {
     "data": {
      "text/plain": [
       "8"
      ]
     },
     "metadata": {},
     "output_type": "display_data"
    },
    {
     "data": {
      "text/plain": [
       "3"
      ]
     },
     "metadata": {},
     "output_type": "display_data"
    }
   ],
   "source": [
    "#remove alle existing nodes and edges\n",
    "G.clear() \n",
    "\n",
    "# nodes that already exist are ignored without warning\n",
    "G.add_edges_from([(1, 2), (1, 3)])\n",
    "G.add_node(1)\n",
    "G.add_edge(1, 2)\n",
    "G.add_node(\"spam\")        # adds node \"spam\"\n",
    "G.add_nodes_from(\"spam\")  # adds 4 nodes: 's', 'p', 'a', 'm'\n",
    "G.add_edge(3, 'm')\n",
    "\n",
    "# get info about nodes and edges\n",
    "display(G.number_of_nodes())\n",
    "display(G.number_of_edges())"
   ]
  },
  {
   "cell_type": "markdown",
   "id": "competent-click",
   "metadata": {},
   "source": [
    "## Examining elements of graph"
   ]
  },
  {
   "cell_type": "code",
   "execution_count": 9,
   "id": "organic-wallet",
   "metadata": {},
   "outputs": [
    {
     "name": "stdout",
     "output_type": "stream",
     "text": [
      "nodes =  [1, 2, 3, 'spam', 's', 'p', 'a', 'm']\n",
      "edges =  [(1, 2), (1, 3), (3, 'm')]\n",
      "adjacency list =  [2, 3]\n",
      "degree =  2\n",
      "edges of 2 and m =  [(2, 1), ('m', 3)]\n",
      "degree of 2 and 3 =  [(2, 1), (3, 2)]\n"
     ]
    }
   ],
   "source": [
    "print(\"nodes = \", list(G.nodes)) # get nodes as list\n",
    "print(\"edges = \", list(G.edges)) # get edges as list\n",
    "print(\"adjacency list = \", list(G.adj[1]))  # or list(G.neighbors(1))\n",
    "print(\"degree = \", G.degree[1])  # the number of edges incident to 1\n",
    "\n",
    "# look at subset\n",
    "print(\"edges of 2 and m = \", G.edges([2, 'm']))\n",
    "print(\"degree of 2 and 3 = \", G.degree([2, 3]))"
   ]
  },
  {
   "cell_type": "markdown",
   "id": "blessed-audience",
   "metadata": {},
   "source": [
    "## Remove elements"
   ]
  },
  {
   "cell_type": "code",
   "execution_count": 11,
   "id": "computational-transcription",
   "metadata": {},
   "outputs": [],
   "source": [
    "# remove single node\n",
    "G.remove_node(2)\n",
    "\n",
    "# remove multiple nodes\n",
    "G.remove_nodes_from(\"spam\")\n",
    "list(G.nodes)\n",
    "\n",
    "# remove edge\n",
    "G.remove_edge(1, 3)"
   ]
  },
  {
   "cell_type": "markdown",
   "id": "individual-ethics",
   "metadata": {},
   "source": [
    "## Graph constructor"
   ]
  },
  {
   "cell_type": "code",
   "execution_count": 14,
   "id": "discrete-graduation",
   "metadata": {},
   "outputs": [
    {
     "name": "stdout",
     "output_type": "stream",
     "text": [
      "edges of H =  [(1, 2), (2, 1)]\n"
     ]
    }
   ],
   "source": [
    "G.add_edge(1, 2)\n",
    "H = nx.DiGraph(G)   # create a DiGraph using the connections from G\n",
    "print(\"edges of H = \", list(H.edges()))\n",
    "edgelist = [(0, 1), (1, 2), (2, 3)]\n",
    "H = nx.Graph(edgelist)"
   ]
  },
  {
   "cell_type": "markdown",
   "id": "polar-kenya",
   "metadata": {},
   "source": [
    "## Accessing edges and neighbors"
   ]
  },
  {
   "cell_type": "markdown",
   "id": "stuck-grocery",
   "metadata": {},
   "source": [
    "Kan indexere for at få fat i en node/edge"
   ]
  },
  {
   "cell_type": "code",
   "execution_count": 15,
   "id": "quality-marketing",
   "metadata": {},
   "outputs": [
    {
     "data": {
      "text/plain": [
       "AtlasView({2: {'color': 'yellow'}})"
      ]
     },
     "metadata": {},
     "output_type": "display_data"
    },
    {
     "data": {
      "text/plain": [
       "{'color': 'yellow'}"
      ]
     },
     "metadata": {},
     "output_type": "display_data"
    },
    {
     "data": {
      "text/plain": [
       "{'color': 'yellow'}"
      ]
     },
     "metadata": {},
     "output_type": "display_data"
    }
   ],
   "source": [
    "G = nx.Graph([(1, 2, {\"color\": \"yellow\"})])\n",
    "display(G[1])  # same as G.adj[1]\n",
    "display(G[1][2])\n",
    "display(G.edges[1, 2])"
   ]
  },
  {
   "cell_type": "code",
   "execution_count": 16,
   "id": "current-wesley",
   "metadata": {},
   "outputs": [
    {
     "data": {
      "text/plain": [
       "{'color': 'red'}"
      ]
     },
     "execution_count": 16,
     "metadata": {},
     "output_type": "execute_result"
    }
   ],
   "source": [
    "G.add_edge(1, 3)\n",
    "G[1][3]['color'] = \"blue\"\n",
    "G.edges[1, 2]['color'] = \"red\"\n",
    "G.edges[1, 2]"
   ]
  },
  {
   "cell_type": "markdown",
   "id": "silent-significance",
   "metadata": {},
   "source": [
    "### Iterables and weighted edges"
   ]
  },
  {
   "cell_type": "markdown",
   "id": "laughing-reader",
   "metadata": {},
   "source": [
    "Fast examination of all (node, adjacency) pairs is achieved using G.adjacency(), or G.adj.items(). Note that for undirected graphs, adjacency iteration sees each edge twice."
   ]
  },
  {
   "cell_type": "code",
   "execution_count": 17,
   "id": "personalized-cursor",
   "metadata": {},
   "outputs": [
    {
     "name": "stdout",
     "output_type": "stream",
     "text": [
      "(1, 2, 0.125)\n",
      "(2, 1, 0.125)\n",
      "(3, 4, 0.375)\n",
      "(4, 3, 0.375)\n"
     ]
    }
   ],
   "source": [
    "FG = nx.Graph()\n",
    "FG.add_weighted_edges_from([(1, 2, 0.125), (1, 3, 0.75), (2, 4, 1.2), (3, 4, 0.375)])\n",
    "for n, nbrs in FG.adj.items():\n",
    "   for nbr, eattr in nbrs.items():\n",
    "       wt = eattr['weight']\n",
    "       if wt < 0.5: print(f\"({n}, {nbr}, {wt:.3})\")"
   ]
  },
  {
   "cell_type": "code",
   "execution_count": 18,
   "id": "athletic-establishment",
   "metadata": {
    "scrolled": true
   },
   "outputs": [
    {
     "name": "stdout",
     "output_type": "stream",
     "text": [
      "(1, 2, 0.125)\n",
      "(3, 4, 0.375)\n"
     ]
    }
   ],
   "source": [
    "for (u, v, wt) in FG.edges.data('weight'):\n",
    "    if wt < 0.5:\n",
    "        print(f\"({u}, {v}, {wt:.3})\")"
   ]
  },
  {
   "cell_type": "markdown",
   "id": "accepting-albany",
   "metadata": {},
   "source": [
    "## Adding attributes to graphs, nodes and edges\n",
    "Attributes such as weights, labels, colors, or whatever Python object you like, can be attached to graphs, nodes, or edges. <br>\n",
    "Each graph, node, and edge can hold key/value attribute pairs in an associated attribute dictionary (the keys must be hashable). By default these are empty, but attributes can be added or changed using add_edge, add_node or direct manipulation of the attribute dictionaries named G.graph, G.nodes, and G.edges for a graph G."
   ]
  },
  {
   "cell_type": "markdown",
   "id": "infinite-indicator",
   "metadata": {},
   "source": [
    "### Graph attributes"
   ]
  },
  {
   "cell_type": "code",
   "execution_count": 19,
   "id": "wanted-genesis",
   "metadata": {},
   "outputs": [
    {
     "data": {
      "text/plain": [
       "{'day': 'Friday'}"
      ]
     },
     "execution_count": 19,
     "metadata": {},
     "output_type": "execute_result"
    }
   ],
   "source": [
    "G = nx.Graph(day=\"Friday\")\n",
    "G.graph"
   ]
  },
  {
   "cell_type": "code",
   "execution_count": 20,
   "id": "designed-adventure",
   "metadata": {},
   "outputs": [
    {
     "data": {
      "text/plain": [
       "{'day': 'Monday'}"
      ]
     },
     "execution_count": 20,
     "metadata": {},
     "output_type": "execute_result"
    }
   ],
   "source": [
    "G.graph['day'] = \"Monday\"\n",
    "G.graph"
   ]
  },
  {
   "cell_type": "markdown",
   "id": "yellow-livestock",
   "metadata": {},
   "source": [
    "### Node attributes\n",
    "Add node attributes using add_node(), add_nodes_from(), or G.nodes"
   ]
  },
  {
   "cell_type": "code",
   "execution_count": 21,
   "id": "artistic-labor",
   "metadata": {},
   "outputs": [
    {
     "name": "stdout",
     "output_type": "stream",
     "text": [
      "attribute of node 1 =  {'time': '5pm'}\n",
      "data about nodes: \n",
      " [(1, {'time': '5pm', 'room': 714}), (3, {'time': '2pm'})]\n"
     ]
    }
   ],
   "source": [
    "G.add_node(1, time='5pm')\n",
    "G.add_nodes_from([3], time='2pm')\n",
    "print(\"attribute of node 1 = \", G.nodes[1])\n",
    "G.nodes[1]['room'] = 714\n",
    "print(\"data about nodes: \\n\",G.nodes.data())"
   ]
  },
  {
   "cell_type": "markdown",
   "id": "stupid-delivery",
   "metadata": {},
   "source": [
    "### Edge attributes\n",
    "Add/change edge attributes using add_edge(), add_edges_from(), or subscript notation.\n",
    "<br>The special attribute weight should be numeric as it is used by algorithms requiring weighted edges."
   ]
  },
  {
   "cell_type": "code",
   "execution_count": 22,
   "id": "fluid-allah",
   "metadata": {},
   "outputs": [],
   "source": [
    "G.add_edge(1, 2, weight=4.7 )\n",
    "G.add_edges_from([(3, 4), (4, 5)], color='red')\n",
    "G.add_edges_from([(1, 2, {'color': 'blue'}), (2, 3, {'weight': 8})])\n",
    "G[1][2]['weight'] = 4.7\n",
    "G.edges[3, 4]['weight'] = 4.2"
   ]
  },
  {
   "cell_type": "markdown",
   "id": "annual-stability",
   "metadata": {},
   "source": [
    "## Directed graphs\n",
    "The DiGraph class provides additional methods and properties specific to directed edges, e.g., DiGraph.out_edges, DiGraph.in_degree, DiGraph.predecessors(), DiGraph.successors() etc. To allow algorithms to work with both classes easily, the directed versions of neighbors() is equivalent to successors() while degree reports the sum of in_degree and out_degree even though that may feel inconsistent at times."
   ]
  },
  {
   "cell_type": "code",
   "execution_count": 24,
   "id": "conceptual-february",
   "metadata": {},
   "outputs": [
    {
     "name": "stdout",
     "output_type": "stream",
     "text": [
      "out-degree of node 1 =  0.5\n",
      "total degree of node 1 =  1.25\n",
      "successors of node 1 =  [2]\n",
      "neighbors of node 1 =  [2]\n"
     ]
    }
   ],
   "source": [
    "DG = nx.DiGraph()\n",
    "DG.add_weighted_edges_from([(1, 2, 0.5), (3, 1, 0.75)])\n",
    "print(\"out-degree of node 1 = \", DG.out_degree(1, weight='weight'))\n",
    "print(\"total degree of node 1 = \", DG.degree(1, weight='weight'))\n",
    "print(\"successors of node 1 = \", list(DG.successors(1)))\n",
    "print(\"neighbors of node 1 = \", list(DG.neighbors(1)))"
   ]
  },
  {
   "cell_type": "markdown",
   "id": "specialized-centre",
   "metadata": {},
   "source": [
    "Some algorithms work only for directed graphs and others are not well defined for directed graphs. Indeed the tendency to lump directed and undirected graphs together is dangerous. If you want to treat a directed graph as undirected for some measurement you should probably convert it using Graph.to_undirected() or with"
   ]
  },
  {
   "cell_type": "code",
   "execution_count": 25,
   "id": "united-waterproof",
   "metadata": {},
   "outputs": [],
   "source": [
    "H = nx.Graph(G)  # create an undirected graph H from a directed graph G"
   ]
  },
  {
   "cell_type": "markdown",
   "id": "original-circumstances",
   "metadata": {},
   "source": [
    "## Multigraph\n",
    "NetworkX provides classes for graphs which allow multiple edges between any pair of nodes. The MultiGraph and MultiDiGraph classes allow you to add the same edge twice, possibly with different edge data. This can be powerful for some applications, but many algorithms are not well defined on such graphs. Where results are well defined, e.g., MultiGraph.degree() we provide the function. Otherwise you should convert to a standard graph in a way that makes the measurement well defined."
   ]
  },
  {
   "cell_type": "code",
   "execution_count": 26,
   "id": "intelligent-flashing",
   "metadata": {},
   "outputs": [
    {
     "name": "stdout",
     "output_type": "stream",
     "text": [
      "dictionary of degrees in MG =  {1: 1.25, 2: 1.75, 3: 0.5}\n",
      "shortest path from 1 to 3 =  [1, 2, 3]\n"
     ]
    }
   ],
   "source": [
    "MG = nx.MultiGraph()\n",
    "MG.add_weighted_edges_from([(1, 2, 0.5), (1, 2, 0.75), (2, 3, 0.5)])\n",
    "print(\"dictionary of degrees in MG = \", dict(MG.degree(weight='weight')))\n",
    "GG = nx.Graph()\n",
    "for n, nbrs in MG.adjacency():\n",
    "   for nbr, edict in nbrs.items():\n",
    "       minvalue = min([d['weight'] for d in edict.values()])\n",
    "       GG.add_edge(n, nbr, weight = minvalue)\n",
    "\n",
    "print(\"shortest path from 1 to 3 = \", nx.shortest_path(GG, 1, 3))"
   ]
  },
  {
   "cell_type": "markdown",
   "id": "objective-martin",
   "metadata": {},
   "source": [
    "## Graph generators and operations"
   ]
  },
  {
   "cell_type": "code",
   "execution_count": 27,
   "id": "retired-austria",
   "metadata": {},
   "outputs": [],
   "source": [
    "# classic graphs\n",
    "K_5 = nx.complete_graph(5)\n",
    "K_3_5 = nx.complete_bipartite_graph(3, 5)\n",
    "barbell = nx.barbell_graph(10, 10)\n",
    "lollipop = nx.lollipop_graph(10, 20)"
   ]
  },
  {
   "cell_type": "code",
   "execution_count": 28,
   "id": "satisfied-snapshot",
   "metadata": {},
   "outputs": [],
   "source": [
    "# stochastic graph generator\n",
    "er = nx.erdos_renyi_graph(100, 0.15)\n",
    "ws = nx.watts_strogatz_graph(30, 3, 0.1)\n",
    "ba = nx.barabasi_albert_graph(100, 5)\n",
    "red = nx.random_lobster(100, 0.9, 0.9)"
   ]
  },
  {
   "cell_type": "markdown",
   "id": "packed-surname",
   "metadata": {},
   "source": [
    "### Reading and writing to a file\n",
    "Reading a graph stored in a file using common graph formats, such as edge lists, adjacency lists, GML, GraphML, pickle, LEDA and others."
   ]
  },
  {
   "cell_type": "code",
   "execution_count": null,
   "id": "capable-nightlife",
   "metadata": {},
   "outputs": [],
   "source": [
    "nx.write_gml(red, \"path.to.file\")\n",
    "mygraph = nx.read_gml(\"path.to.file\")"
   ]
  },
  {
   "cell_type": "markdown",
   "id": "moving-machine",
   "metadata": {},
   "source": [
    "## Analysing graphs"
   ]
  },
  {
   "cell_type": "code",
   "execution_count": 30,
   "id": "binding-merchant",
   "metadata": {},
   "outputs": [
    {
     "name": "stdout",
     "output_type": "stream",
     "text": [
      "connected components of G  =  [{1, 2, 3}, {'spam'}]\n",
      "degrees in sorted order =  [0, 1, 1, 2]\n",
      "clustering of G  = {1: 0, 2: 0, 3: 0, 'spam': 0}\n",
      "dict of shortest path of 3 =  {3: [3], 1: [3, 1], 2: [3, 1, 2]}\n"
     ]
    }
   ],
   "source": [
    "G = nx.Graph()\n",
    "G.add_edges_from([(1, 2), (1, 3)])\n",
    "G.add_node(\"spam\")       # adds node \"spam\"\n",
    "print(\"connected components of G  = \",list(nx.connected_components(G)))\n",
    "print(\"degrees in sorted order = \", sorted(d for n, d in G.degree()))\n",
    "print(\"clustering of G  =\",nx.clustering(G))\n",
    "\n",
    "sp = dict(nx.all_pairs_shortest_path(G))\n",
    "print(\"dict of shortest path of 3 = \", sp[3])"
   ]
  },
  {
   "cell_type": "markdown",
   "id": "invalid-outline",
   "metadata": {},
   "source": [
    "## Drawing graphs\n",
    "NetworkX is not primarily a graph drawing package but basic drawing with Matplotlib as well as an interface to use the open source Graphviz software package are included. These are part of the networkx.drawing module and will be imported if possible."
   ]
  },
  {
   "cell_type": "code",
   "execution_count": 31,
   "id": "everyday-franchise",
   "metadata": {
    "scrolled": false
   },
   "outputs": [
    {
     "data": {
      "image/png": "[encoded data removed]",
      "text/plain": [
       "<Figure size 432x288 with 2 Axes>"
      ]
     },
     "metadata": {},
     "output_type": "display_data"
    }
   ],
   "source": [
    "import matplotlib.pyplot as plt\n",
    "G = nx.petersen_graph()\n",
    "plt.subplot(121)\n",
    "nx.draw(G, with_labels=True, font_weight='bold')\n",
    "plt.subplot(122)\n",
    "nx.draw_shell(G, nlist=[range(5, 10), range(5)], with_labels=True, font_weight='bold')\n",
    "plt.show()"
   ]
  },
  {
   "cell_type": "markdown",
   "id": "variable-study",
   "metadata": {},
   "source": [
    "### Set options\n",
    "You can find additional options via draw_networkx() and layouts via layout. You can use multiple shells with draw_shell()."
   ]
  },
  {
   "cell_type": "code",
   "execution_count": 32,
   "id": "black-research",
   "metadata": {
    "scrolled": true
   },
   "outputs": [
    {
     "data": {
      "image/png": "[encoded data removed]",
      "text/plain": [
       "<Figure size 432x288 with 4 Axes>"
      ]
     },
     "metadata": {},
     "output_type": "display_data"
    }
   ],
   "source": [
    "options = {\n",
    "    'node_color': 'black',\n",
    "    'node_size': 100,\n",
    "    'width': 3,\n",
    "}\n",
    "plt.subplot(221)\n",
    "nx.draw_random(G, **options)\n",
    "plt.subplot(222)\n",
    "nx.draw_circular(G, **options)\n",
    "plt.subplot(223)\n",
    "nx.draw_spectral(G, **options)\n",
    "plt.subplot(224)\n",
    "nx.draw_shell(G, nlist=[range(5,10), range(5)], **options)"
   ]
  },
  {
   "cell_type": "code",
   "execution_count": 33,
   "id": "aggregate-coast",
   "metadata": {
    "scrolled": true
   },
   "outputs": [
    {
     "data": {
      "image/png": "[encoded data removed]",
      "text/plain": [
       "<Figure size 432x288 with 1 Axes>"
      ]
     },
     "metadata": {},
     "output_type": "display_data"
    }
   ],
   "source": [
    "G = nx.dodecahedral_graph()\n",
    "shells = [[2, 3, 4, 5, 6], [8, 1, 0, 19, 18, 17, 16, 15, 14, 7], [9, 10, 11, 12, 13]]\n",
    "nx.draw_shell(G, nlist=shells, **options)"
   ]
  },
  {
   "cell_type": "code",
   "execution_count": 36,
   "id": "hungry-darkness",
   "metadata": {},
   "outputs": [],
   "source": [
    "# !pip install pygraphviz\n",
    "# from networkx.drawing.nx_pydot import write_dot\n",
    "# pos = nx.nx_agraph.graphviz_layout(G)\n",
    "# nx.draw(G, pos=pos)\n",
    "# write_dot(G, 'file.dot')"
   ]
  }
 ],
 "metadata": {
  "kernelspec": {
   "display_name": "Python 3",
   "language": "python",
   "name": "python3"
  },
  "language_info": {
   "codemirror_mode": {
    "name": "ipython",
    "version": 3
   },
   "file_extension": ".py",
   "mimetype": "text/x-python",
   "name": "python",
   "nbconvert_exporter": "python",
   "pygments_lexer": "ipython3",
   "version": "3.8.5"
  }
 },
 "nbformat": 4,
 "nbformat_minor": 5
}
