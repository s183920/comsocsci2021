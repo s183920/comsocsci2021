{
 "cells": [
  {
   "cell_type": "markdown",
   "metadata": {},
   "source": [
    "# Overview\n",
    "\n",
    "This week we will go back to networks, and we will learn about community detection. \n",
    "\n",
    "Here is the plan:\n",
    "\n",
    "* __Part 1__: Learn about Community Detection with a lecture from Sune. Then do an exercise related to the famous [Zachary Karate Club Network](https://en.wikipedia.org/wiki/Zachary%27s_karate_club).\n",
    "* __Part 2__: Learn how to compare network communities, using _normalized [mutual information](https://en.wikipedia.org/wiki/Mutual_information)_.\n",
    "* __Part 3__: Apply community detection to the GME network.\n"
   ]
  },
  {
   "cell_type": "markdown",
   "metadata": {},
   "source": [
    "# Part 1: Community detection."
   ]
  },
  {
   "cell_type": "markdown",
   "metadata": {},
   "source": [
    "Now that we have learnt about text analysis, it is time to go back to our GME network! We will start by learning about community detection with a lecture from Sune.\n",
    "\n",
    "> **_Video Lecture_**: Communities in networks. \n",
    "\n",
    "You can watch the 2015 video [here](https://youtu.be/06GL_KGHdbE/)"
   ]
  },
  {
   "cell_type": "code",
   "execution_count": 1,
   "metadata": {},
   "outputs": [
    {
     "data": {
      "image/jpeg": "[encoded data removed]",
      "text/html": [
       "\n",
       "        <iframe\n",
       "            width=\"800\"\n",
       "            height=\"450\"\n",
       "            src=\"https://www.youtube.com/embed/FSRoqXw28RI\"\n",
       "            frameborder=\"0\"\n",
       "            allowfullscreen\n",
       "        ></iframe>\n",
       "        "
      ],
      "text/plain": [
       "<IPython.lib.display.YouTubeVideo at 0x207ce296b80>"
      ]
     },
     "execution_count": 1,
     "metadata": {},
     "output_type": "execute_result"
    }
   ],
   "source": [
    "from IPython.display import YouTubeVideo\n",
    "YouTubeVideo(\"FSRoqXw28RI\",width=800, height=450)"
   ]
  },
  {
   "cell_type": "markdown",
   "metadata": {},
   "source": [
    "> **_Reading_**: [Chapter 9 of the NS book.](http://networksciencebook.com/chapter/9). You can skip sections 9.3, 9.5 and 9.7. \n",
    "\n"
   ]
  },
  {
   "cell_type": "markdown",
   "metadata": {},
   "source": [
    "_Exercise 1: Zachary's karate club_: And now, the idea is to put a bit into practice the concept of community detection. In this exercise, we will work on Zarachy's karate club graph (refer to the Introduction of Chapter 9). The dataset is available in NetworkX, by calling the function [karate_club_graph](https://networkx.org/documentation/stable//auto_examples/graph/plot_karate_club.html) \n",
    "\n",
    "> 1. Visualize the graph using [netwulf](https://netwulf.readthedocs.io/en/latest/). Set the color of each node based on the club split (the information is stored as a node attribute). My version of the visualization is below.\n",
    ">\n",
    "> 2. Write a function to compute the __modularity__ of a graph partitioning (use **equation 9.12** in the book). The function should take a networkX Graph and a partitioning as inputs and return the modularity.\n",
    "> 3. Explain in your own words the concept of _modularity_. \n",
    "> 4. Compute the modularity of the Karate club split partitioning using the function you just wrote. Note: the Karate club split partitioning is avilable as a [node attribute](https://networkx.org/documentation/networkx-1.10/reference/generated/networkx.classes.function.get_node_attributes.html), called _\"club\"_.\n",
    "> 5. We will now perform a small randomization experiment to assess if the modularity you just computed is statitically different from $0$. To do so, we will implement a [configuration model](https://en.wikipedia.org/wiki/Configuration_model). In short, we will create a new network, such that each node has exactly the same degree as in the original network, but different connections. Here is how the algorithm works.\n",
    ">       * __a.__ Create an identical copy of your original network.\n",
    ">       * __b.__ Consider the list of network edges. Create two lists: the list of source nodes and target nodes. \n",
    ">       * __c.__ Shuffle the list of target nodes. Create new edges that have as sources the original source nodes and as targets the shuffled target nodes. \n",
    ">       * __d.__ Remove all the original network edges from your network. Add all the new _shuffled_ edges you created in step __c.__.\n",
    "> 6. Double check that your algorithm works well, by showing that the degree of nodes in the original network and in the the configuration model are the same.\n",
    "> 7. Create $1000$ randomized version of the Karate Club network using the algorithm you wrote in step 5. For each of them, compute the modularity of the \"club\" split and store it in a list.\n",
    "> 8. Compute the average and standard deviation of the modularity for the configuration model.\n",
    "> 9. Plot the distribution of the configuration model modularity. Plot the actual modularity of the club split as a vertical line (use [axvline](https://matplotlib.org/stable/api/_as_gen/matplotlib.pyplot.axvline.html)). \n",
    "> 10. Comment on the figure. Is the club split a good partitioning? Why do you think I asked you to compare with the configuration model? What is the reason why we preserved the nodes degree?\n",
    "> 11.  Use [the Python Louvain-algorithm implementation](https://anaconda.org/auto/python-louvain) to find communities in this graph. Report the value of modularity found by the algorithm. Is it higher or lower than what you found above for the club split? What does this comparison reveal?\n",
    "> 12.  Compare the communities found by the Louvain algorithm with the club split partitioning by creating a matrix **_D_** with dimension (2 times _A_), where _A_ is the number of communities found by Louvain. We set entry _D_(_i_,_j_) to be the number of nodes that community _i_ has in common with group split _j_. The matrix **_D_** is what we call a [**confusion matrix**](https://en.wikipedia.org/wiki/Confusion_matrix). Use the confusion matrix to explain how well the communities you've detected correspond to the club split partitioning."
   ]
  },
  {
   "cell_type": "markdown",
   "metadata": {},
   "source": [
    "<img src=\"https://github.com/lalessan/comsocsci2021/raw/master/files/karate.png\" alt=\"Drawing\" style=\"width: 800px;\"/>"
   ]
  },
  {
   "cell_type": "code",
   "execution_count": 1,
   "metadata": {},
   "outputs": [],
   "source": [
    "import matplotlib.pyplot as plt\n",
    "import networkx as nx\n",
    "import netwulf as nw\n",
    "\n",
    "G = nx.karate_club_graph()"
   ]
  },
  {
   "cell_type": "markdown",
   "metadata": {},
   "source": [
    "> 1. Visualize the graph using [netwulf](https://netwulf.readthedocs.io/en/latest/). Set the color of each node based on the club split (the information is stored as a node attribute). My version of the visualization is below.\n",
    ">\n"
   ]
  },
  {
   "cell_type": "code",
   "execution_count": null,
   "metadata": {},
   "outputs": [],
   "source": [
    "# set club as group variable\n",
    "G_viz = G.copy()\n",
    "for k, v in G_viz.nodes(data=True):\n",
    "    v['group'] = v['club']; del v['club']\n",
    "# nw.visualize(G_viz)\n",
    "nw.visualize(G_viz, plot_in_cell_below=True)\n",
    "plt.show()"
   ]
  },
  {
   "cell_type": "markdown",
   "metadata": {},
   "source": [
    "> 2. Write a function to compute the __modularity__ of a graph partitioning (use **equation 9.12** in the book). The function should take a networkX Graph and a partitioning as inputs and return the modularity.\n"
   ]
  },
  {
   "cell_type": "code",
   "execution_count": 223,
   "metadata": {},
   "outputs": [
    {
     "data": {
      "text/plain": [
       "{0: [9, 14, 15, 18, 20, 22, 23, 24, 25, 26, 27, 28, 29, 30, 31, 32, 33],\n",
       " 1: [0, 1, 2, 3, 4, 5, 6, 7, 8, 10, 11, 12, 13, 16, 17, 19, 21]}"
      ]
     },
     "execution_count": 223,
     "metadata": {},
     "output_type": "execute_result"
    }
   ],
   "source": [
    "def get_partition(graph):\n",
    "    # gets partition from node attribute, partion in the form {group:nodes}\n",
    "    L = list(dict(graph.nodes(data=True)).values())\n",
    "    groups = [dict(s) for s in set(frozenset(d.items()) for d in L)]\n",
    "    partition = {i:[] for i in range(len(groups))}\n",
    "    for node, group in dict(G.nodes(data=True)).items():\n",
    "        partition[groups.index(group)].append(node)\n",
    "    return partition\n",
    "\n",
    "def convert_partition(partition):\n",
    "    # convert partition format of nx to fit modularity function\n",
    "    keys = set(partition.values())\n",
    "    p = {k:[] for k in keys}\n",
    "    for key, value in partition.items():\n",
    "        p[value].append(key)\n",
    "    return p\n",
    "\n",
    "def modularity(graph, partition = None, convert = False):\n",
    "    partition = convert_partition(partition) if convert else (partition if partition is not None else {})\n",
    "    \n",
    "#     print(partition)\n",
    "    L = len(graph.edges) # number of links/edges in the entire graph\n",
    "    M = 0\n",
    "    for c in range(len(partition)):\n",
    "        g = graph.subgraph(partition[c])\n",
    "        kc = sum([graph.degree[node] for node in g.nodes]) # total sum of degrees for nodes in the partition\n",
    "        Lc = len(g.edges) # number of links/edges in the subgraph\n",
    "        M += Lc/L-(kc/(2*L))**2\n",
    "    return M\n",
    "        \n",
    "get_partition(G)"
   ]
  },
  {
   "cell_type": "markdown",
   "metadata": {},
   "source": [
    "> 3. Explain in your own words the concept of _modularity_. \n",
    "    >> Modularity is the difference between the fraction of links belonging to the given community and the expected fraction of links belonging to the community/partition, given a random network\n"
   ]
  },
  {
   "cell_type": "markdown",
   "metadata": {},
   "source": [
    "> 4. Compute the modularity of the Karate club split partitioning using the function you just wrote. Note: the Karate club split partitioning is avilable as a [node attribute](https://networkx.org/documentation/networkx-1.10/reference/generated/networkx.classes.function.get_node_attributes.html), called _\"club\"_.\n"
   ]
  },
  {
   "cell_type": "code",
   "execution_count": 112,
   "metadata": {},
   "outputs": [
    {
     "name": "stdout",
     "output_type": "stream",
     "text": [
      "Modularity\n",
      "\tOwn function: 0.358235            \n",
      "\tnx version: 0.358235            \n"
     ]
    }
   ],
   "source": [
    "print(\"Modularity\")\n",
    "print(f\"\\tOwn function: {modularity(G, get_partition(G))}\")\n",
    "print(f\"\\tnx version: {nx.algorithms.community.quality.modularity(G, get_partition(G).values())}\")\n"
   ]
  },
  {
   "cell_type": "markdown",
   "metadata": {},
   "source": [
    "> 5. We will now perform a small randomization experiment to assess if the modularity you just computed is statitically different from $0$. To do so, we will implement a [configuration model](https://en.wikipedia.org/wiki/Configuration_model). In short, we will create a new network, such that each node has exactly the same degree as in the original network, but different connections. Here is how the algorithm works.\n",
    ">       * __a.__ Create an identical copy of your original network.\n",
    ">       * __b.__ Consider the list of network edges. Create two lists: the list of source nodes and target nodes. \n",
    ">       * __c.__ Shuffle the list of target nodes. Create new edges that have as sources the original source nodes and as targets the shuffled target nodes. \n",
    ">       * __d.__ Remove all the original network edges from your network. Add all the new _shuffled_ edges you created in step __c.__.\n"
   ]
  },
  {
   "cell_type": "code",
   "execution_count": 172,
   "metadata": {},
   "outputs": [],
   "source": [
    "import random\n",
    "\n",
    "def get_conf_model(graph):\n",
    "    # step a\n",
    "    G_conf = graph.copy()\n",
    "\n",
    "    # step b\n",
    "    source, target = [], []\n",
    "    for src, trg in G_conf.edges:\n",
    "        source.append(src)\n",
    "        target.append(trg)\n",
    "\n",
    "    # step c\n",
    "    random.shuffle(target)\n",
    "    edges_conf = [(source[i], target[i]) for i in range(len(G_conf.edges))] # get new edges\n",
    "\n",
    "    # step d\n",
    "    G_conf.remove_edges_from(G_conf.edges) # remove edges\n",
    "    G_conf = nx.MultiGraph(G_conf) # turn into multigraph to allow duoplicate edges and keep degree of nodes\n",
    "    G_conf.add_edges_from(edges_conf) # add shuffled edges\n",
    "    \n",
    "    return G_conf\n",
    "\n",
    "\n",
    "G_conf = get_conf_model(G) # own algorithm\n",
    "# G_conf = nx.configuration_model(dict(G.degree).values()) # nx built in"
   ]
  },
  {
   "cell_type": "markdown",
   "metadata": {},
   "source": [
    "> 6. Double check that your algorithm works well, by showing that the degree of nodes in the original network and in the the configuration model are the same.\n"
   ]
  },
  {
   "cell_type": "code",
   "execution_count": 171,
   "metadata": {
    "scrolled": true
   },
   "outputs": [
    {
     "name": "stdout",
     "output_type": "stream",
     "text": [
      "Node:     0\tDegree original:    16\tDegree conf model:    16\n",
      "Node:     1\tDegree original:     9\tDegree conf model:     9\n",
      "Node:     2\tDegree original:    10\tDegree conf model:    10\n",
      "Node:     3\tDegree original:     6\tDegree conf model:     6\n",
      "Node:     4\tDegree original:     3\tDegree conf model:     3\n",
      "Node:     5\tDegree original:     4\tDegree conf model:     4\n",
      "Node:     6\tDegree original:     4\tDegree conf model:     4\n",
      "Node:     7\tDegree original:     4\tDegree conf model:     4\n",
      "Node:     8\tDegree original:     5\tDegree conf model:     5\n",
      "Node:     9\tDegree original:     2\tDegree conf model:     2\n",
      "Node:    10\tDegree original:     3\tDegree conf model:     3\n",
      "Node:    11\tDegree original:     1\tDegree conf model:     1\n",
      "Node:    12\tDegree original:     2\tDegree conf model:     2\n",
      "Node:    13\tDegree original:     5\tDegree conf model:     5\n",
      "Node:    14\tDegree original:     2\tDegree conf model:     2\n",
      "Node:    15\tDegree original:     2\tDegree conf model:     2\n",
      "Node:    16\tDegree original:     2\tDegree conf model:     2\n",
      "Node:    17\tDegree original:     2\tDegree conf model:     2\n",
      "Node:    18\tDegree original:     2\tDegree conf model:     2\n",
      "Node:    19\tDegree original:     3\tDegree conf model:     3\n",
      "Node:    20\tDegree original:     2\tDegree conf model:     2\n",
      "Node:    21\tDegree original:     2\tDegree conf model:     2\n",
      "Node:    22\tDegree original:     2\tDegree conf model:     2\n",
      "Node:    23\tDegree original:     5\tDegree conf model:     5\n",
      "Node:    24\tDegree original:     3\tDegree conf model:     3\n",
      "Node:    25\tDegree original:     3\tDegree conf model:     3\n",
      "Node:    26\tDegree original:     2\tDegree conf model:     2\n",
      "Node:    27\tDegree original:     4\tDegree conf model:     4\n",
      "Node:    28\tDegree original:     3\tDegree conf model:     3\n",
      "Node:    29\tDegree original:     4\tDegree conf model:     4\n",
      "Node:    30\tDegree original:     4\tDegree conf model:     4\n",
      "Node:    31\tDegree original:     6\tDegree conf model:     6\n",
      "Node:    32\tDegree original:    12\tDegree conf model:    12\n",
      "Node:    33\tDegree original:    17\tDegree conf model:    17\n"
     ]
    }
   ],
   "source": [
    "for node in G.nodes:\n",
    "    print(f\"Node: {node:>5d}\\tDegree original: {G.degree[node]:>5d}\\tDegree conf model: {G_conf.degree[node]:>5d}\")"
   ]
  },
  {
   "cell_type": "markdown",
   "metadata": {},
   "source": [
    "> 7. Create $1000$ randomized version of the Karate Club network using the algorithm you wrote in step 5. For each of them, compute the modularity of the \"club\" split and store it in a list.\n"
   ]
  },
  {
   "cell_type": "code",
   "execution_count": 178,
   "metadata": {},
   "outputs": [],
   "source": [
    "N = 1000\n",
    "modularities = [modularity(g_conf, get_partition(g_conf)) for g_conf in [get_conf_model(G) for i in range(N)]]"
   ]
  },
  {
   "cell_type": "markdown",
   "metadata": {},
   "source": [
    "> 8. Compute the average and standard deviation of the modularity for the configuration model.\n"
   ]
  },
  {
   "cell_type": "code",
   "execution_count": 194,
   "metadata": {},
   "outputs": [
    {
     "name": "stdout",
     "output_type": "stream",
     "text": [
      "Average of the configuration model:               -9.483e-3\n",
      "Standard deviation of the configuration model:    55.379e-3\n"
     ]
    }
   ],
   "source": [
    "import numpy as np\n",
    "print(f\"{'Average of the configuration model:':<50s}{np.mean(modularities)*1e3:.3f}e-3\")\n",
    "print(f\"{'Standard deviation of the configuration model:':<50s}{np.std(modularities)*1e3:.3f}e-3\")"
   ]
  },
  {
   "cell_type": "markdown",
   "metadata": {},
   "source": [
    "> 9. Plot the distribution of the configuration model modularity. Plot the actual modularity of the club split as a vertical line (use [axvline](https://matplotlib.org/stable/api/_as_gen/matplotlib.pyplot.axvline.html)). \n"
   ]
  },
  {
   "cell_type": "code",
   "execution_count": 218,
   "metadata": {},
   "outputs": [
    {
     "data": {
      "image/png": "[encoded data removed]",
      "text/plain": [
       "<Figure size 720x720 with 1 Axes>"
      ]
     },
     "metadata": {
      "needs_background": "light"
     },
     "output_type": "display_data"
    }
   ],
   "source": [
    "import matplotlib.pyplot as plt\n",
    "M = modularity(G, get_partition(G))\n",
    "# min([*modularities, M]), max([*modularities, M]) # (-0.2058678500986194, 0.3582347140039447)\n",
    "# min(modularities), max(modularities) # (-0.2058678500986194, 0.17874753451676526)\n",
    "bins = np.linspace(-.21, .18, 50)\n",
    "hist, edges = np.histogram(modularities, bins = bins)\n",
    "x = (edges[1:] + edges[:-1])/2.\n",
    "\n",
    "# remove 0 entries\n",
    "xx, yy = zip(*[(i,j) for (i,j) in zip(x, hist) if j > 0])\n",
    "\n",
    "fig, ax = plt.subplots(figsize = (10,10))\n",
    "ax.plot(xx,yy, label = \"Configuration model\", marker = \".\")\n",
    "ax.axvline(M, label = \"Actual modality\", color = \"red\")\n",
    "ax.legend()\n",
    "ax.set_ylabel(\"Count\")\n",
    "ax.set_xlabel(\"Modality\")\n",
    "ax.set_title(\"Distribution of modalities for the configuration models\")\n",
    "\n",
    "plt.show()"
   ]
  },
  {
   "cell_type": "markdown",
   "metadata": {},
   "source": [
    "> 10. Comment on the figure. Is the club split a good partitioning? Why do you think I asked you to compare with the configuration model? What is the reason why we preserved the nodes degree?\n",
    "    >> - The actual modality is around twice as large as the largest observed modality for the configuration model\n",
    "    >> - The modalities of the configuration model is normal distributed around 0 as expected\n",
    "    >> - The club split seems like a good partitioning and is certain to be better than a random split\n",
    "    >> - If the configuration model had overlapping values with the actual modality, the split could be replaced with a random split and still give the same insight to the network\n",
    "    >> - We preserved to nodes degree to keep $k_c$ and $L$ constant, with the only variable changing in the calculation of modality being $L_c$, which is the number of links within the community\n"
   ]
  },
  {
   "cell_type": "markdown",
   "metadata": {},
   "source": [
    "> 11.  Use [the Python Louvain-algorithm implementation](https://anaconda.org/auto/python-louvain) to find communities in this graph. Report the value of modularity found by the algorithm. Is it higher or lower than what you found above for the club split? What does this comparison reveal?\n",
    "    >> - The modularity is higher, indicating that a better split in the network exists. \n",
    "    >> - This shows that being in the same club does not necesarily mean you talk most with people in the same club"
   ]
  },
  {
   "cell_type": "code",
   "execution_count": 220,
   "metadata": {},
   "outputs": [],
   "source": [
    "# !pip install python-louvain"
   ]
  },
  {
   "cell_type": "code",
   "execution_count": 225,
   "metadata": {},
   "outputs": [
    {
     "data": {
      "text/plain": [
       "0.4188034188034188"
      ]
     },
     "execution_count": 225,
     "metadata": {},
     "output_type": "execute_result"
    }
   ],
   "source": [
    "import community as community_louvain\n",
    "partition = community_louvain.best_partition(G)\n",
    "modularity(G, partition, convert = True)"
   ]
  },
  {
   "cell_type": "markdown",
   "metadata": {},
   "source": [
    "> 12.  Compare the communities found by the Louvain algorithm with the club split partitioning by creating a matrix **_D_** with dimension (2 times _A_), where _A_ is the number of communities found by Louvain. We set entry _D_(_i_,_j_) to be the number of nodes that community _i_ has in common with group split _j_. The matrix **_D_** is what we call a [**confusion matrix**](https://en.wikipedia.org/wiki/Confusion_matrix). Use the confusion matrix to explain how well the communities you've detected correspond to the club split partitioning\n",
    "    >> From the confusion matrix it seems like the club split can be close to recreated by merging community 1 and 3 and 2 and 4 from the Louvain partition"
   ]
  },
  {
   "cell_type": "code",
   "execution_count": 253,
   "metadata": {},
   "outputs": [
    {
     "name": "stdout",
     "output_type": "stream",
     "text": [
      "[[ 1.  6.  0. 10.]\n",
      " [11.  0.  5.  1.]]\n"
     ]
    },
    {
     "data": {
      "image/png": "[encoded data removed]",
      "text/plain": [
       "<Figure size 1000x700 with 2 Axes>"
      ]
     },
     "metadata": {
      "needs_background": "light"
     },
     "output_type": "display_data"
    }
   ],
   "source": [
    "opt_split = convert_partition(partition)\n",
    "club_split = get_partition(G)\n",
    "\n",
    "D = np.zeros((2,4))\n",
    "\n",
    "for i in range(len(club_split)):\n",
    "    for j in range(len(opt_split)):\n",
    "        D[i,j] = len(set(club_split[i]).intersection(set(opt_split[j])))\n",
    "\n",
    "print(D)\n",
    "\n",
    "# plot\n",
    "fig, ax = plt.subplots(figsize=(10,7), dpi=100)\n",
    "D_img = ax.imshow(D, interpolation='nearest', origin='lower')\n",
    "ax.set_xlabel(\"Louvain partition\")\n",
    "ax.set_ylabel(\"Club partition\")\n",
    "ax.set_title(\"Confusion matrix for the different partitions\")\n",
    "ax.tick_params(which = \"both\", bottom = False, left = False, labelbottom = False, labelleft=False)\n",
    "cbar = fig.colorbar(D_img, ax=ax, extend='both')\n",
    "cbar.minorticks_on()\n",
    "plt.show()"
   ]
  },
  {
   "cell_type": "markdown",
   "metadata": {},
   "source": [
    "# Part 2: Comparing partitions"
   ]
  },
  {
   "cell_type": "markdown",
   "metadata": {},
   "source": [
    "[Section 9.6](http://networksciencebook.com/chapter/9#testing) of the Network Science book dicusses how to test the accuracy of community detection algorithms on networks with predefined community structure. This involves measuring the similarity between the predefined structure and the communities identified by a given community detection algorithm. There are many ways for comparing partitions (for an extensive review, see [this article](http://staff.ustc.edu.cn/~zwp/teach/MVA/cluster_validation.pdf)). The book introduces the widely used _normalized mutual information_ (eq. 9.19). We are going to learn more about it and implemement it!"
   ]
  },
  {
   "cell_type": "markdown",
   "metadata": {},
   "source": [
    "First, let's dig a bit deeper into the definition of __Mutual Information__ between two discrete variables $X$ and $Y$. \n",
    "\n",
    "The mutual information is the reduction in uncertainty about variable $X$, After observing a second random variable $Y$. It is measured as the difference between the entropy of $X$, $H(X)$ (which measures its uncertainty), and the conditional entropy of $X$ given $Y$, $H(X|Y)$ (which measures the uncertainty about $X$ after observing $Y$).\n",
    "\n",
    "$I(X;Y)=H(X)−H(X|Y)$\n",
    "\n",
    "If you are not familiar with the concepts of entropy and conditional entropy, or have any doubt about the definition of mutual information, I suggest to carefully read [this page](http://www.scholarpedia.org/article/Mutual_information). If you are someone who learns by doing, the next exercise should help!"
   ]
  },
  {
   "cell_type": "markdown",
   "metadata": {},
   "source": [
    "_Exercise 2: Mutual Information:_ In the exercise above, we computed the confusion matrix to compare the communities found by the Louvain method with the \"club\" split. In this exercise, we will compare the two using the Normalized Mutual Information (see eq. 9.19 in your Network Science Book).\n",
    "\n",
    "> 1. Write a function that, given as input a list of discrete items, returns a dictionary containing the probability of each unique value in the list. For example, given as input the list $[ 1,1,0,1,2]$, the function should return the following dictionary $\\{1:0.6,0:0.2,2:0.2\\}$.\n",
    "> 2. Loop through the nodes of your Zachary Karate Club network. For each node, find the corresponding club (either _\"Mr Hi\"_ or _\"Officer\"_) and store it in a list $l_1$. Compute the probability $p(x)$ of each club $x$ using the function you computed above. \n",
    "> 3. Loop again through the nodes of your Zachary Karate Club (in the same order as you did in step 1.). For each node, find the corresponding Louvain community, and store it in a list $l_2$. Compute the probability $p(y)$ for each Louvain community $y$ using your function. \n",
    "> 4. Loop again through the nodes of your Zachary Karate Club (in the same order!). This time, build a list of tuples $l_3$, such that the first value in the tuple is club and the second is the Louvain community. Compute the probability $p(x,y)$ for each tuple $(x,y)$ in your list using the function you wrote in step 1.. \n",
    "> 5. Compute the Shannon entropy of the Karate Club split. Remember that the entropy of a variable $X$ is defined as $H(X) = -\\sum_x p(x)log(p(x))$. Here the sum runs over the two clubs: _\"Mr Hi\"_ and _\"Officer\"_. You need the probabilities you computed in step 2.\n",
    "> 6. Compute the entropy of the Louvain community partitioning $H(Y) = -\\sum_x p(y)log(p(y))$. Here the sum runs over the communities found by the Louvain method. You need the probabilities you computed in step 3.\n",
    "> 7. Compute the conditional entropy $H(X|Y) = - \\sum_{x,y} p(x,y)\\cdot log \\frac{p(x,y)}{p(y)}$, where the sum runs over all possible combinations of clubs and communities. You need the probabilities you computed in steps 2. and 4.\n",
    "> 8. Now, compute the mutual information $I(X;Y) = H(X) - H(X|Y)$. Compare your result with the results you would obtain applying the scikit-learn function [mutual_info_score](https://scikit-learn.org/stable/modules/generated/sklearn.metrics.mutual_info_score.html). You should pass the lists $l_1$ and $l_2$ as inputs to your function.\n",
    "> 9. Compute the normalized mutual score: $I_n(X;Y) = \\frac{I(X;Y)}{\\frac{1}{2}H(X) + \\frac{1}{2}H(Y)}$.Compare your result with the results you would obtain applying the scikit-learn function [normalized_mutual_info_score](https://scikit-learn.org/stable/modules/generated/sklearn.metrics.normalized_mutual_info_score.html). \n",
    "> 10. What is the point of normalizing the mutual information through dividing it by ${\\frac{1}{2}H(X) + \\frac{1}{2}H(Y)}$?\n",
    "> 11. We will now perform another randomization test. Shuffle the club split node labels (e.g assign a new group to each node, but keep the size of the \"Officer\" and \"Mr Hi\" groups constant). Measure the _normalized mutual information_ with the Louvain communities using the procedure above. Repeat the procedure $1000$ times and plot the distribution of the \"random\" _normalized mutual information_.\n",
    "> 12. Based on your analysis, what can you conclude about the similarity of the Louvain communities and the actual club split? Why do you think I asked you to run a randomization test?"
   ]
  },
  {
   "cell_type": "markdown",
   "metadata": {},
   "source": [
    "# Part 3: communities in the GME network."
   ]
  },
  {
   "cell_type": "markdown",
   "metadata": {},
   "source": [
    "Finally, lets' apply community detection to our favourite network: the GME network. In the following, consider the undirected version of the graph."
   ]
  },
  {
   "cell_type": "markdown",
   "metadata": {},
   "source": [
    "> _Exercise 3_: Community detection on the GME network. \n",
    "> * Consider the GME network you built in [Week 3](https://nbviewer.jupyter.org/github/lalessan/comsocsci2021/blob/master/lectures/Week3.ipynb), part 3.\n",
    "> * Use [the Python Louvain-algorithm implementation](https://anaconda.org/auto/python-louvain) to find communities. How many communities do you find? What are their sizes? Report the value of modularity found by the algorithm. Is the modularity significantly different than 0? \n",
    "> * If you are curious, you can also try the *Infomap* algorithm. Go to [this page]. (https://mapequation.github.io/infomap/python/). It's harder to install, but a better community detection algorithm. You can read about it in [advanced topics 9B](http://networksciencebook.com/chapter/9#advanced-9b).\n",
    "> * Visualize the network, using netwulf (see Week 4). This time assign each node a different color based on their _community_. Describe the structure you observe.\n",
    "\n",
    "> _Exercise 4_ (*Optional*): Understanding communities using text analysis. \n",
    "> \n",
    "> * We want to find out which words are important for each community, so we're going to create N large documents, where N is the number of communities you have found in exercise 9. Tokenize the submissions, and combine the tokens into one long list including all the posts submitted by the members of the same community. \n",
    "> * Compute the TF-IDF for each community. \n",
    "> * Create a word-cloud for each community. Do they help interpreting the communities you have found?"
   ]
  },
  {
   "cell_type": "code",
   "execution_count": null,
   "metadata": {},
   "outputs": [],
   "source": []
  }
 ],
 "metadata": {
  "kernelspec": {
   "display_name": "Python 3",
   "language": "python",
   "name": "python3"
  },
  "language_info": {
   "codemirror_mode": {
    "name": "ipython",
    "version": 3
   },
   "file_extension": ".py",
   "mimetype": "text/x-python",
   "name": "python",
   "nbconvert_exporter": "python",
   "pygments_lexer": "ipython3",
   "version": "3.8.5"
  }
 },
 "nbformat": 4,
 "nbformat_minor": 2
}
