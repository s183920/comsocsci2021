{
 "cells": [
  {
   "cell_type": "markdown",
   "metadata": {},
   "source": [
    "# Overview\n",
    "\n",
    "This week we'll talk about some of the charachteristics of real-world social networks. The structure is the following: \n",
    "\n",
    "* Part 1: A crash course on real-world social networks.\n",
    "* Part 2: Visualizing the network of Redditors\n",
    "* Part 3: Properties of the real-world network of Redditors\n",
    "\n",
    "\n",
    "> *Reading*: Read [Chapter 3 of the Network Science book.](http://networksciencebook.com/chapter/3). The most important sections are 3.1 to 3.4 and 3.8 to 3.10, so focus on that."
   ]
  },
  {
   "cell_type": "markdown",
   "metadata": {},
   "source": [
    "# Part 1 : Empirical properties of real-world social networks"
   ]
  },
  {
   "cell_type": "markdown",
   "metadata": {},
   "source": [
    "Researchers in Computational Social Science have widely studied the properties of real-world social networks. The very cool thing they found is that many widely different social networks (from face-to-face interactions among classmates, to the Facebook network, to collaboration networks among scientists, etc) present some commonalities. We refer to those as 'Universalities'.\n",
    "In the video-lecture below, I will introduce _some_ of the things we know to be true for most real-world social networks. "
   ]
  },
  {
   "cell_type": "markdown",
   "metadata": {},
   "source": [
    ">> **_Video Lecture_**. Start by watching the [\"Properties of empirical social networks\"](https://youtu.be/jHdnehLku54). \n"
   ]
  },
  {
   "cell_type": "code",
   "execution_count": 1,
   "metadata": {},
   "outputs": [
    {
     "data": {
      "image/jpeg": "[encoded data removed]",
      "text/html": [
       "\n",
       "        <iframe\n",
       "            width=\"800\"\n",
       "            height=\"450\"\n",
       "            src=\"https://www.youtube.com/embed/jHdnehLku54\"\n",
       "            frameborder=\"0\"\n",
       "            allowfullscreen\n",
       "        ></iframe>\n",
       "        "
      ],
      "text/plain": [
       "<IPython.lib.display.YouTubeVideo at 0x2a80c1ca340>"
      ]
     },
     "execution_count": 1,
     "metadata": {},
     "output_type": "execute_result"
    }
   ],
   "source": [
    "from IPython.display import YouTubeVideo\n",
    "YouTubeVideo(\"jHdnehLku54\",width=800, height=450)"
   ]
  },
  {
   "cell_type": "markdown",
   "metadata": {},
   "source": [
    "> *Exercise 1:* Did you really read the text? Answer the following questions (no calculations needed) in your Jupyter notebook.\n",
    "\n",
    "> * What's the problem with random networks as a model for real-world networks according to the argument in section 3.5 (near the end)?\n",
    "    >> * There is a lack of outliers, in a random network, there will not be any individuals with a very large num ber of friends and there will not be be any with just a few, as these have very low probability\n",
    "> * List the four regimes that characterize random networks as a function of ⟨k⟩.\n",
    "    >> * \\<k\\> = average degree of network, N = number o nodes in the network, $N_G$ = number of nodes in the largest cluster\n",
    "    >> * The four regimes for random networks are (with \\<k\\> denoted k and $N_G/N = n$ for simplicity):\n",
    "        >>> * Subcritical regime: 0 < k < 1, n = 0\n",
    "        >>> * Critical point: k = 1\n",
    "        >>> * Supercritical regime: k > 1\n",
    "        >>> * Connected regime: k > ln N\n",
    "> * According to the book, why is it a problem for random networks (in terms of being a model for real-world networks that the degree-dependent clustering C(k) decreases as a function of k in real-world networks?\n",
    "    >> * In a real network C(k) systematiccaly decreases with the degree, in a random network this should be independent of each other. "
   ]
  },
  {
   "cell_type": "markdown",
   "metadata": {},
   "source": [
    "# Part 2 : Visualizing the network of Redditors"
   ]
  },
  {
   "cell_type": "markdown",
   "metadata": {},
   "source": [
    "Take the network of redditors you built in Week3, Part 3. To get an idea about how the network looks like, we start visualizing it. For this exercise, we will use the __awesome library [``netwulf``](https://netwulf.readthedocs.io/en/latest/index.html)__ created by Ulf Aslak, a colleague of mine and former DTU PhD student. You can install it via ``pip install netwulf``. \n",
    "\n",
    "Netwulf is built on top of [d3-force](https://github.com/d3/d3-force), a Javascript library that simulates the dynamics of particles moving in 2D. In the visualization, particles correspond to network nodes subject to forces:\n",
    " * Nodes are attracted to the center of the viz \n",
    " * Nodes repel each other\n",
    " * Nodes linked by an edge will preferably stay at a fixed distance to each other.\n"
   ]
  },
  {
   "cell_type": "markdown",
   "metadata": {},
   "source": [
    "> _Exercise_ 1: Visualize the network of Redditors. \n",
    ">\n",
    "> * For this and the following exercise, we will study the undirected graph of \"reciprocal\" edges. Reciprocal edges are such that each of the two authors forming the edge has replied to the other at least once. Build the reciprocal graph using the function [``to_undirected``](https://networkx.org/documentation/stable//reference/classes/generated/networkx.DiGraph.to_undirected.html)(set ``reciprocal=True``). Assign to each undirected edge a weight equal to the sum of the weights in the two corresponding directed edges. Remove self-loops (edges connecting a node to itself). Remove from the network all the nodes without connections. \n",
    "> * How many nodes are present in the reciprocal graph? How many edges? Which fraction of the original network nodes and edges they represent? How do you interpret this result?\n",
    "    >> * The number of nodes remain the same, meaning all the users have at least one reciprocal connection. The number of edges are reduced to about 16 %, where the maximum value would have been 50 %, as the number of edges is halved when making the network reciprocal\n",
    "> * Visualize the undirected graph you just created using the function [``visualize``](https://netwulf.readthedocs.io/en/latest/reference/interactive.html?highlight=visualize#netwulf.interactive.visualize) of the Netwulf package. \n",
    "> * Play with the parameters of the netwulf algorithm to obtain a visualization you like. To understand better what the parameters mean, have a look at the [documentation](https://netwulf.readthedocs.io/en/latest/visualization/init.html?). Your visualization may look similar to the one below, where I made the size of nodes proportional to their strength (sum of weights on the outgoing edges), and I added the names of the top redditors by degree... But not necessarily! Just have fun making your own version. You can save the figure directly from the interactive visualization panel, or plot it in higher resolution in matplotlib following [this example](https://netwulf.readthedocs.io/en/latest/cookbook/cookbook.html#save-as-pdf).\n",
    "> * Describe the structure you observe. Can you identify nodes with a privileged position in the network? \n",
    "> * _Optional_: You can color nodes based on a property of your interest. For example, I colored nodes based on the date of authors' first comment, following [this example](https://github.com/benmaier/netwulf/issues/38). What do you observe? Can you find specific nodes properties that seem to correlate with a node's position in the network?\n",
    "\n",
    "<img src=\"https://github.com/lalessan/comsocsci2021/raw/master/files/network.png\" alt=\"Drawing\" style=\"width: 800px;\"/>"
   ]
  },
  {
   "cell_type": "code",
   "execution_count": 1,
   "metadata": {
    "scrolled": false
   },
   "outputs": [],
   "source": [
    "# !pip install netwulf networkx\n",
    "import pandas as pd\n",
    "import numpy as np\n",
    "import networkx as nx\n",
    "import matplotlib.pyplot as plt\n",
    "import netwulf as nw\n",
    "\n",
    "\n",
    "comments_network = pd.read_csv(\"Data/week4/comments_network.csv\")\n",
    "# comments_network"
   ]
  },
  {
   "cell_type": "code",
   "execution_count": 2,
   "metadata": {
    "scrolled": true
   },
   "outputs": [],
   "source": [
    "H = nx.from_pandas_edgelist(comments_network, \"parent_author\", \"author\", \"weight\", create_using = nx.DiGraph())\n",
    "G = H\n",
    "G = G.to_undirected(reciprocal = True) # make undirected and reciprocal\n",
    "G.remove_edges_from(list(nx.selfloop_edges(G))) # remove self loops\n",
    "\n",
    "# get sum of weights to update edges - takes a while to run :)\n",
    "# edges = []\n",
    "# for item in list(G.edges):\n",
    "#     i,j = item\n",
    "#     w = 0\n",
    "#     w += comments_network[(comments_network.parent_author == i) & (comments_network.author == j)].weight.values\n",
    "#     w += comments_network[(comments_network.parent_author == j) & (comments_network.author == i)].weight.values\n",
    "#     edges.append((i,j, {'weight': int(w)}))\n",
    "G.update(edges = edges)\n",
    "\n",
    "# this is just used for some tests\n",
    "# create data frame of graph\n",
    "# df_graph = nx.to_pandas_edgelist(G)\n",
    "# df_graph\n",
    "# tmp = comments_network\n",
    "# tmp.columns = [\"source\", \"target\", \"weight\"]\n",
    "# display(tmp[(tmp.source == \"skyfallboom\") & (tmp.target == \"thehulkneedsglasses\")])\n",
    "# display(tmp[(tmp.source == \"thehulkneedsglasses\") & (tmp.target == \"skyfallboom\")])\n"
   ]
  },
  {
   "cell_type": "code",
   "execution_count": 3,
   "metadata": {
    "scrolled": true
   },
   "outputs": [
    {
     "name": "stdout",
     "output_type": "stream",
     "text": [
      "The reciprocal network has 30039 nodes\n",
      "The reciprocal network has 15340 edges\n",
      "The reciprocal network has 1.000 times the nodes of the original network\n",
      "The reciprocal network has 0.159 times the edges of the original network\n"
     ]
    }
   ],
   "source": [
    "# stats for the reciprocal network\n",
    "# H = nx.from_pandas_edgelist(comments_network, \"parent_author\", \"author\", \"weight\", create_using = nx.DiGraph())\n",
    "print(f\"The reciprocal network has {len(G.nodes)} nodes\")\n",
    "print(f\"The reciprocal network has {len(G.edges)} edges\")\n",
    "print(f\"The reciprocal network has {len(G.nodes)/len(H.nodes):.3f} times the nodes of the original network\")\n",
    "print(f\"The reciprocal network has {len(G.edges)/len(H.edges):.3f} times the edges of the original network\")"
   ]
  },
  {
   "cell_type": "markdown",
   "metadata": {},
   "source": [
    "## Plot network\n",
    "How to do this properly?????????"
   ]
  },
  {
   "cell_type": "code",
   "execution_count": 5,
   "metadata": {},
   "outputs": [
    {
     "ename": "KeyboardInterrupt",
     "evalue": "",
     "output_type": "error",
     "traceback": [
      "\u001b[1;31m---------------------------------------------------------------------------\u001b[0m",
      "\u001b[1;31mKeyboardInterrupt\u001b[0m                         Traceback (most recent call last)",
      "\u001b[1;32m<ipython-input-5-da32f2009a86>\u001b[0m in \u001b[0;36m<module>\u001b[1;34m\u001b[0m\n\u001b[0;32m      1\u001b[0m \u001b[1;31m# netwulf.visualize(G)\u001b[0m\u001b[1;33m\u001b[0m\u001b[1;33m\u001b[0m\u001b[1;33m\u001b[0m\u001b[0m\n\u001b[0;32m      2\u001b[0m \u001b[1;32mfor\u001b[0m \u001b[0mn\u001b[0m\u001b[1;33m,\u001b[0m \u001b[0mdata\u001b[0m \u001b[1;32min\u001b[0m \u001b[0mG\u001b[0m\u001b[1;33m.\u001b[0m\u001b[0mnodes\u001b[0m\u001b[1;33m(\u001b[0m\u001b[0mdata\u001b[0m\u001b[1;33m=\u001b[0m\u001b[1;32mTrue\u001b[0m\u001b[1;33m)\u001b[0m\u001b[1;33m:\u001b[0m\u001b[1;33m\u001b[0m\u001b[1;33m\u001b[0m\u001b[0m\n\u001b[1;32m----> 3\u001b[1;33m     \u001b[0mdata\u001b[0m\u001b[1;33m[\u001b[0m\u001b[1;34m'size'\u001b[0m\u001b[1;33m]\u001b[0m \u001b[1;33m=\u001b[0m \u001b[0mdict\u001b[0m\u001b[1;33m(\u001b[0m\u001b[0mG\u001b[0m\u001b[1;33m.\u001b[0m\u001b[0mdegree\u001b[0m\u001b[1;33m(\u001b[0m\u001b[0mweight\u001b[0m\u001b[1;33m=\u001b[0m\u001b[1;34m'weight'\u001b[0m\u001b[1;33m)\u001b[0m\u001b[1;33m)\u001b[0m\u001b[1;33m[\u001b[0m\u001b[0mn\u001b[0m\u001b[1;33m]\u001b[0m\u001b[1;33m\u001b[0m\u001b[1;33m\u001b[0m\u001b[0m\n\u001b[0m\u001b[0;32m      4\u001b[0m \u001b[1;31m#     print(n)\u001b[0m\u001b[1;33m\u001b[0m\u001b[1;33m\u001b[0m\u001b[1;33m\u001b[0m\u001b[0m\n\u001b[0;32m      5\u001b[0m \u001b[1;31m#     break\u001b[0m\u001b[1;33m\u001b[0m\u001b[1;33m\u001b[0m\u001b[1;33m\u001b[0m\u001b[0m\n",
      "\u001b[1;32m~\\miniconda3\\envs\\soc_inf_env\\lib\\site-packages\\networkx\\classes\\reportviews.py\u001b[0m in \u001b[0;36m__iter__\u001b[1;34m(self)\u001b[0m\n\u001b[0;32m    462\u001b[0m                 \u001b[0mnbrs\u001b[0m \u001b[1;33m=\u001b[0m \u001b[0mself\u001b[0m\u001b[1;33m.\u001b[0m\u001b[0m_succ\u001b[0m\u001b[1;33m[\u001b[0m\u001b[0mn\u001b[0m\u001b[1;33m]\u001b[0m\u001b[1;33m\u001b[0m\u001b[1;33m\u001b[0m\u001b[0m\n\u001b[0;32m    463\u001b[0m                 deg = sum(dd.get(weight, 1) for dd in nbrs.values()) + (\n\u001b[1;32m--> 464\u001b[1;33m                     \u001b[0mn\u001b[0m \u001b[1;32min\u001b[0m \u001b[0mnbrs\u001b[0m \u001b[1;32mand\u001b[0m \u001b[0mnbrs\u001b[0m\u001b[1;33m[\u001b[0m\u001b[0mn\u001b[0m\u001b[1;33m]\u001b[0m\u001b[1;33m.\u001b[0m\u001b[0mget\u001b[0m\u001b[1;33m(\u001b[0m\u001b[0mweight\u001b[0m\u001b[1;33m,\u001b[0m \u001b[1;36m1\u001b[0m\u001b[1;33m)\u001b[0m\u001b[1;33m\u001b[0m\u001b[1;33m\u001b[0m\u001b[0m\n\u001b[0m\u001b[0;32m    465\u001b[0m                 )\n\u001b[0;32m    466\u001b[0m                 \u001b[1;32myield\u001b[0m \u001b[1;33m(\u001b[0m\u001b[0mn\u001b[0m\u001b[1;33m,\u001b[0m \u001b[0mdeg\u001b[0m\u001b[1;33m)\u001b[0m\u001b[1;33m\u001b[0m\u001b[1;33m\u001b[0m\u001b[0m\n",
      "\u001b[1;31mKeyboardInterrupt\u001b[0m: "
     ]
    }
   ],
   "source": [
    "# # netwulf.visualize(G)\n",
    "# for n, data in G.nodes(data=True):\n",
    "#     data['size'] = dict(G.degree(weight='weight'))[n]\n",
    "# #     print(n)\n",
    "# #     break\n",
    "\n",
    "# # draw links only at first\n",
    "# fig, ax = nw.draw_netwulf(network,draw_nodes=False)   \n",
    "# network, config = nw.visualize(G, plot_in_cell_below=True)\n",
    "# nw.draw_netwulf(network,fig,ax,draw_links=False)\n",
    "\n",
    "# # fig, ax = nw.draw_netwulf(network, figsize=(10,10))\n",
    "# # plt.savefig(\"testfig.pdf\")"
   ]
  },
  {
   "cell_type": "markdown",
   "metadata": {},
   "source": [
    "# Part 3: Properties of the real-world network of Redditors\n"
   ]
  },
  {
   "cell_type": "markdown",
   "metadata": {},
   "source": [
    "> _Exercise 2_: \n",
    ">\n",
    "> 2.1 _Random Network_: In this exercise we will create a Random Network as a null model to investigate some properties of the Redditors Network.\n",
    "> * Compute the value of _p_ such that the number of expected edges of the random network equals the number of edges in the redditor network (see equation 3.2 in your Network Science Book). What is the value of p? Compute the average value of the degree < k > (using the formula).\n",
    "> * Use NetworkX to create a Random network with the same number of nodes as the redditor networks, and _p_ as computed above. You can use the function [``erdos_renyi_graph``](https://networkx.org/documentation/stable/reference/generated/networkx.generators.random_graphs.erdos_renyi_graph.html#networkx.generators.random_graphs.erdos_renyi_graph) in NetworkX. \n",
    "> * Visualize the network as you did for the Redditors network in the exercise above (my version is below). Comment on the differences between the two.\n",
    "    >> Sizes of the nodes are more even in the random network, as outliers are removed\n",
    "    \n",
    "<img src=\"https://github.com/lalessan/comsocsci2021/raw/master/files/random_network.png\" alt=\"Drawing\" style=\"width: 800px;\"/>"
   ]
  },
  {
   "cell_type": "code",
   "execution_count": 6,
   "metadata": {},
   "outputs": [
    {
     "name": "stdout",
     "output_type": "stream",
     "text": [
      "The probability of of two nodes being connected is: \n",
      "\t p = 0.0034 %\n",
      "The average degree of a node is: \n",
      "\t <k> = 1.0213\n"
     ]
    }
   ],
   "source": [
    "# calculate prob and avg degree\n",
    "N = len(G.nodes())\n",
    "L_max = N*(N-1)/2\n",
    "L_avg = len(G.edges())\n",
    "p = L_avg/L_max # isolate in eq 3.2\n",
    "print(f\"The probability of of two nodes being connected is: \\n\\t p = {p*1e2:.4f} %\")\n",
    "k_avg = p*(N-1) # use eq 3.3 to obtain average degree\n",
    "print(f\"The average degree of a node is: \\n\\t <k> = {k_avg:.4f}\")"
   ]
  },
  {
   "cell_type": "code",
   "execution_count": 7,
   "metadata": {},
   "outputs": [],
   "source": [
    "# create random network\n",
    "G_random = nx.erdos_renyi_graph(n = N, p = p, seed = 420)"
   ]
  },
  {
   "cell_type": "code",
   "execution_count": 58,
   "metadata": {},
   "outputs": [
    {
     "name": "stdout",
     "output_type": "stream",
     "text": [
      "Object `????` not found.\n"
     ]
    }
   ],
   "source": [
    "# visualise network \n",
    "#How to do this properly?????????"
   ]
  },
  {
   "cell_type": "markdown",
   "metadata": {},
   "source": [
    " > 2.2 _Degree Distribution_: In this exercise, we will compare the degree distribution of the real network and its random counterpart.\n",
    "> * Compute the distribution of degree for the random network using the numpy function ``np.histogram``. Bin your histogram using 10 linearly spaced bins. Remember to pass the parameter ``density=True``.\n",
    "> * Compute the distribution of degree for the Redditors undirected network using the numpy function ``np.histogram``. Bin your histogram using 10 logarithmically spaced bins. Remember to pass the parameter ``density=True``.\n",
    "> * Plot the two distributions you computed in steps 1. and 2. in the same figure as two line-graphs. Log-scale the x and y axes. \n",
    "> * Comment the figure. What are the differences between the two distributions? Why did I ask you to use two different types of binning? \n",
    "        >> With logarithmic axes, the reddit network seems linear, which indicates a power relationship between the degree and probability density. The random network seems to become exponentially decreasing. More bins would have been empty if the same binning had been used for both networks\n",
    "> * What is the average degree of the random and the real network? Comment on the relation between the two. \n",
    "        >> 1.0085 and 1.0213. Most of the nodes of the random network will lie around \\<k\\> and the large hubs disappear and loses their effect (see [image 3.6](http://networksciencebook.com/chapter/3#not-poisson))\n"
   ]
  },
  {
   "cell_type": "code",
   "execution_count": 8,
   "metadata": {},
   "outputs": [],
   "source": [
    "# degree distribution of random network\n",
    "degrees_rnd = list(dict(G_random.degree()).values())\n",
    "# min(degrees_rnd), max(degrees_rnd) # 0, 7\n",
    "bins = np.linspace(0, 7, 10)\n",
    "hist_rnd, edges_rnd = np.histogram(degrees_rnd, bins, density = True)"
   ]
  },
  {
   "cell_type": "code",
   "execution_count": 9,
   "metadata": {},
   "outputs": [],
   "source": [
    "# degree distribution of redditors network\n",
    "degrees_red = list(dict(G.degree()).values())\n",
    "# min(degrees_red), max(degrees_red) # 0, 376\n",
    "bins = np.logspace(0, np.log10(376), 10)\n",
    "hist_red, edges_red = np.histogram(degrees_red, bins, density = True)"
   ]
  },
  {
   "cell_type": "code",
   "execution_count": 10,
   "metadata": {},
   "outputs": [
    {
     "data": {
      "image/png": "[encoded data removed]",
      "text/plain": [
       "<Figure size 720x720 with 1 Axes>"
      ]
     },
     "metadata": {
      "needs_background": "light"
     },
     "output_type": "display_data"
    }
   ],
   "source": [
    "# plot distributions\n",
    "x_rnd = (edges_rnd[1:] + edges_rnd[:-1])/2.\n",
    "x_red = (edges_red[1:] + edges_red[:-1])/2.\n",
    "\n",
    "x_rnd, y_rnd = zip(*[(i,j) for (i,j) in zip(x_rnd, hist_rnd) if j > 0])\n",
    "x_red, y_red = zip(*[(i,j) for (i,j) in zip(x_red, hist_red) if j > 0])\n",
    "\n",
    "fig, ax = plt.subplots(figsize = (10,10))\n",
    "ax.plot(x_rnd, y_rnd, label = \"random network\", marker = \".\")\n",
    "ax.plot(x_red, y_red, label = \"redditor network\", marker = \".\")\n",
    "ax.set_yscale(\"log\")\n",
    "ax.set_xscale(\"log\")\n",
    "ax.set_ylabel(\"Probability density\")\n",
    "ax.set_xlabel(\"Degree\")\n",
    "ax.set_title(\"Degree distributions\")\n",
    "ax.legend()\n",
    "\n",
    "plt.show()"
   ]
  },
  {
   "cell_type": "code",
   "execution_count": 79,
   "metadata": {},
   "outputs": [
    {
     "name": "stdout",
     "output_type": "stream",
     "text": [
      "Average degree of random network: 1.0085\n",
      "Average degree of redditor network: 1.0213\n"
     ]
    }
   ],
   "source": [
    "# average degrees\n",
    "print(f\"Average degree of random network: {np.mean(degrees_rnd):.4f}\")\n",
    "print(f\"Average degree of redditor network: {np.mean(degrees_red):.4f}\")"
   ]
  },
  {
   "cell_type": "markdown",
   "metadata": {},
   "source": [
    "> 2.3 _Shortest Paths_: Here, we will check if the Redditors Network is a small-world Network.\n",
    "> * Compute the average shortest path for the largest connected component of the Redditors network (for a reminder of the definition of connected components, check [section 2.9 of the Network Science book](http://networksciencebook.com/chapter/2#connectedness)). You can use the following steps: \n",
    ">    * Use [``nx.algorithms.connected_components``](https://networkx.org/documentation/stable//reference/algorithms/generated/networkx.algorithms.components.connected_components.html) to find all connected components (it returns a list of subsets of the original set of nodes). \n",
    ">    * Consider the largest subset of nodes found in the step above. Build the subgraph of your original network containing those nodes exclusively, using [``nx.Graph.subgraph``](https://networkx.org/documentation/stable/reference/classes/generated/networkx.Graph.subgraph.html). This corresponds to your largest connected component (a.k.a [giant component](https://en.wikipedia.org/wiki/Giant_component)).\n",
    "> * Compute the average shortest path length of the giant component using [``nx.average_shortest_path_length``](https://networkx.org/documentation/networkx-1.3/reference/generated/networkx.average_shortest_path_length.html)\n",
    "> * Compute the average shortest path length for the giant component of the random network you built in exercise 2.1.\n",
    "> * Comment on the relation between the average shortest path length in the real and the random networks. Can you conclude that the small-world property apply to the Redditors network? \n",
    "        "
   ]
  },
  {
   "cell_type": "code",
   "execution_count": 33,
   "metadata": {},
   "outputs": [
    {
     "name": "stdout",
     "output_type": "stream",
     "text": [
      "The average shortest paths\n",
      "\tReddit = \t 5.0223699008387355\n",
      "\tRandom = \t 32.327562361909905\n"
     ]
    }
   ],
   "source": [
    "# avg shortest path of largest connected component\n",
    "con_comp = list(nx.algorithms.components.connected_components(G))\n",
    "largest_component = G.subgraph(con_comp[np.argmax([len(i) for i in con_comp])])\n",
    "avg_shortest_path_largest_component = nx.average_shortest_path_length(largest_component)\n",
    "# avg shortest path of entire reddit network\n",
    "# avg_shortest_path_reddit = nx.average_shortest_path_length(G)\n",
    "\n",
    "# avg shortest path of the random network\n",
    "con_comp_rnd = list(nx.algorithms.components.connected_components(G_random))\n",
    "largest_component_rnd = G_random.subgraph(con_comp_rnd[np.argmax([len(i) for i in con_comp_rnd])])\n",
    "avg_shortest_path_random = nx.average_shortest_path_length(largest_component_rnd)\n",
    "\n",
    "print(\"The average shortest paths of giant components\")\n",
    "# print(f\"\\tLargest component = \\t {avg_shortest_path_largest_component}\")\n",
    "print(f\"\\tReddit = \\t {avg_shortest_path_largest_component}\")\n",
    "print(f\"\\tRandom = \\t {avg_shortest_path_random}\")"
   ]
  },
  {
   "cell_type": "markdown",
   "metadata": {},
   "source": [
    "> 2.4 _Clustering_: Here, we will compare the clustering coefficient in the Redditors Network and its random counterpart.\n",
    "> * Compute the clustering coefficient for all nodes in the random network, using networkx [``clustering``](https://networkx.org/documentation/stable/reference/algorithms/generated/networkx.algorithms.cluster.clustering.html#networkx.algorithms.cluster.clustering) function. Compute the average across nodes. Is it consistent with the analytical prediction (network science book equation 3.21)?\n",
    "> * Compute the average clustering coefficient for the Redditors network. How does it compare to its random counterpart? Is it something you would expect? Why?\n",
    "        >> In the reddit network, neighboring nodes does not necesarily link, as people does not not necesarily comment on the same posts\n",
    "\n",
    "\n"
   ]
  },
  {
   "cell_type": "code",
   "execution_count": 43,
   "metadata": {},
   "outputs": [
    {
     "name": "stdout",
     "output_type": "stream",
     "text": [
      "The average clustering coefficient across nodes:\n",
      "\trandom = 4.993508439029262e-05\n",
      "\treddit = 0.005292788843732756\n"
     ]
    }
   ],
   "source": [
    "# clustering coefficient\n",
    "print(\"The average clustering coefficient across nodes:\")\n",
    "\n",
    "#random network\n",
    "C_random = nx.algorithms.cluster.clustering(G_random) # clustering coefficient for all nodes\n",
    "avg_C_random = np.mean(list(C_random.values()))\n",
    "print(f\"\\trandom = {avg_C_random}\")\n",
    "\n",
    "# reddit network\n",
    "C_reddit = nx.algorithms.cluster.clustering(G) # clustering coefficient for all nodes\n",
    "avg_C_reddit = np.mean(list(C_reddit.values()))\n",
    "print(f\"\\treddit = {avg_C_reddit}\")"
   ]
  }
 ],
 "metadata": {
  "kernelspec": {
   "display_name": "Python 3",
   "language": "python",
   "name": "python3"
  },
  "language_info": {
   "codemirror_mode": {
    "name": "ipython",
    "version": 3
   },
   "file_extension": ".py",
   "mimetype": "text/x-python",
   "name": "python",
   "nbconvert_exporter": "python",
   "pygments_lexer": "ipython3",
   "version": "3.8.5"
  }
 },
 "nbformat": 4,
 "nbformat_minor": 2
}
